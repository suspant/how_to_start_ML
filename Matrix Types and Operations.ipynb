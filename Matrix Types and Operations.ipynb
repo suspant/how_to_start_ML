{
 "cells": [
  {
   "cell_type": "markdown",
   "metadata": {},
   "source": [
    "<b>Transpose</b>\n",
    "\n",
    "A defined matrix can be transposed, which creates a new matrix with the number of columns and rows flipped.\n",
    "\n",
    "This is denoted by the superscript “T” next to the matrix.\n",
    "\n",
    "C = A^T\n",
    "\n",
    "We can transpose a matrix in NumPy by calling the T attribute."
   ]
  },
  {
   "cell_type": "code",
   "execution_count": 3,
   "metadata": {
    "collapsed": false
   },
   "outputs": [
    {
     "name": "stdout",
     "output_type": "stream",
     "text": [
      "[[1 2]\n",
      " [3 4]\n",
      " [5 6]]\n",
      "\n",
      "\n",
      "[[1 3 5]\n",
      " [2 4 6]]\n"
     ]
    }
   ],
   "source": [
    "# transpose matrix\n",
    "from numpy import array\n",
    "A = array([[1, 2], [3, 4], [5, 6]])\n",
    "print(A)\n",
    "print(\"\\n\")\n",
    "C = A.T\n",
    "print(C)"
   ]
  },
  {
   "cell_type": "markdown",
   "metadata": {},
   "source": [
    "<b>Inversion</b>\n",
    "\n",
    "The operation of inverting a matrix is indicated by a -1 superscript next to the matrix; for example, A^-1. The result of the operation is referred to as the inverse of the original matrix; for example, B is the inverse of A.\n",
    "\n",
    "B = A^-1\n",
    "\n",
    "Not all matrices are invertible.\n",
    "\n",
    "A matrix can be inverted in NumPy using the inv() function."
   ]
  },
  {
   "cell_type": "code",
   "execution_count": 5,
   "metadata": {
    "collapsed": false
   },
   "outputs": [
    {
     "name": "stdout",
     "output_type": "stream",
     "text": [
      "[[1. 2.]\n",
      " [3. 4.]]\n",
      "\n",
      "\n",
      "[[-2.   1. ]\n",
      " [ 1.5 -0.5]]\n"
     ]
    }
   ],
   "source": [
    "# invert matrix\n",
    "from numpy import array\n",
    "from numpy.linalg import inv\n",
    "# define matrix\n",
    "A = array([[1.0, 2.0], [3.0, 4.0]])\n",
    "print(A)\n",
    "print(\"\\n\")\n",
    "# invert matrix\n",
    "B = inv(A)\n",
    "print(B)"
   ]
  },
  {
   "cell_type": "markdown",
   "metadata": {},
   "source": [
    "<b>Square Matrix</b>\n",
    "\n",
    "A square matrix is a matrix where the number of rows (n) equals the number of columns (m).\n",
    "\n",
    "n = m\n",
    "\n",
    "The square matrix is contrasted with the rectangular matrix where the number of rows and columns are not equal.\n",
    "\n",
    "<b>Symmetric Matrix</b>\n",
    "\n",
    "A symmetric matrix is a type of square matrix where the top-right triangle is the same as the bottom-left triangle.\n",
    "\n",
    "To be symmetric, the axis of symmetry is always the main diagonal of the matrix, from the top left to the bottom right.\n",
    "\n",
    "A symmetric matrix is always square and equal to its own transpose.\n",
    "\n",
    "M = M^T"
   ]
  },
  {
   "cell_type": "markdown",
   "metadata": {},
   "source": [
    "<b>Triangular Matrix</b>\n",
    "\n",
    "A triangular matrix is a type of square matrix that has all values in the upper-right or lower-left of the matrix with the remaining elements filled with zero values.\n",
    "\n",
    "A triangular matrix with values only above the main diagonal is called an upper triangular matrix. Whereas, a triangular matrix with values only below the main diagonal is called a lower triangular matrix.\n",
    "\n",
    "<b>Diagonal Matrix</b>\n",
    "\n",
    "A diagonal matrix is one where values outside of the main diagonal have a zero value, where the main diagonal is taken from the top left of the matrix to the bottom right.\n",
    "\n",
    "A diagonal matrix is often denoted with the variable D and may be represented as a full matrix or as a vector of values on the main diagonal.\n"
   ]
  },
  {
   "cell_type": "markdown",
   "metadata": {},
   "source": [
    "Reference: https://machinelearningmastery.com/linear_algebra_for_machine_learning/"
   ]
  },
  {
   "cell_type": "code",
   "execution_count": null,
   "metadata": {
    "collapsed": true
   },
   "outputs": [],
   "source": []
  }
 ],
 "metadata": {
  "anaconda-cloud": {},
  "kernelspec": {
   "display_name": "Python [default]",
   "language": "python",
   "name": "python3"
  },
  "language_info": {
   "codemirror_mode": {
    "name": "ipython",
    "version": 3
   },
   "file_extension": ".py",
   "mimetype": "text/x-python",
   "name": "python",
   "nbconvert_exporter": "python",
   "pygments_lexer": "ipython3",
   "version": "3.5.4"
  }
 },
 "nbformat": 4,
 "nbformat_minor": 1
}
