{
 "cells": [
  {
   "cell_type": "markdown",
   "metadata": {},
   "source": [
    "<b>We will discover the 5 reasion why a machine learning partictitioner should deepen their understaning of linear algebra.</b>\n",
    "\n",
    "1. You Need to Learn Linear Algebra Notation\n",
    "You need to be able to read and write vector and matrix notation. Algorithms are described in books, papers and on websites using vector and matrix notation.\n",
    "\n",
    "2. You Need to Learn Linear Algebra Arithmetic\n",
    "In partnership with the notation of linear algebra are the arithmetic operations performed. You need to know how to add, subtract, and multiply scalars, vectors, and matrices.\n",
    "\n",
    "3. You Need to Learn Linear Algebra for Statistics\n",
    "You must learn linear algebra in order to be able to learn statistics. Especially multivariate statistics.\n",
    "\n",
    "In order to be able to read and interpret statistics, you must learn the notation and operations of linear algebra. Modern statistics uses both the notation and tools of linear algebra to describe the tools and techniques of statistical methods. From vectors for the means and variances of data, to covariance matrices that describe the relationships between multiple Gaussian variables.\n",
    "\n",
    "4. You Need to Learn Matrix Factorization\n",
    "Building on notation and arithmetic is the idea of matrix factorization, also called matrix decomposition.\n",
    "\n",
    "You need to know how to factorize a matrix and what it means. Matrix factorization is a key tool in linear algebra and used widely as an element of many more complex operations in both linear algebra (such as the matrix inverse) and machine learning (least squares).\n",
    "\n",
    "5. You Need to Learn Linear Least Squares\n",
    "You need to know how to use matrix factorization to solve linear least squares.\n",
    "\n",
    "Problems of this type can be framed as the minimization of squared error, called least squares, and can be recast in the language of linear algebra, called linear least squares. Linear least squares problems can be solved efficiently on computers using matrix operations such as matrix factorization."
   ]
  },
  {
   "cell_type": "markdown",
   "metadata": {},
   "source": [
    "Reference: https://machinelearningmastery.com/linear_algebra_for_machine_learning/"
   ]
  },
  {
   "cell_type": "code",
   "execution_count": null,
   "metadata": {
    "collapsed": true
   },
   "outputs": [],
   "source": []
  }
 ],
 "metadata": {
  "anaconda-cloud": {},
  "kernelspec": {
   "display_name": "Python [default]",
   "language": "python",
   "name": "python3"
  },
  "language_info": {
   "codemirror_mode": {
    "name": "ipython",
    "version": 3
   },
   "file_extension": ".py",
   "mimetype": "text/x-python",
   "name": "python",
   "nbconvert_exporter": "python",
   "pygments_lexer": "ipython3",
   "version": "3.5.4"
  }
 },
 "nbformat": 4,
 "nbformat_minor": 1
}
