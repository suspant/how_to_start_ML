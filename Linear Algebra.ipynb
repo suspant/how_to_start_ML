{
 "cells": [
  {
   "cell_type": "markdown",
   "metadata": {},
   "source": [
    "<b>Linear Algebra</b>\n",
    "Linear algebra is a branch of mathematics, but the truth of it is that linear algebra is the mathematics of data. Matrices and vectors are the language of data.\n",
    "\n",
    "Linear algebra is about linear combinations. That is, using arithmetic on columns of numbers called vectors and 2D arrays of numbers called matrices, to create new columns and arrays of numbers.\n",
    "\n",
    "<b>Numerical Linear Algebra</b>\n",
    "The application of linear algebra in computers is often called numerical linear algebra.\n",
    "\n",
    "It is more than just the implementation of linear algebra operations in code libraries; it also includes the careful handling of the problems of applied mathematics, such as working with the limited floating point precision of digital computers.\n",
    "\n",
    "<b>Applications of Linear Algebra</b>\n",
    "\n",
    "As linear algebra is the mathematics of data, the tools of linear algebra are used in many domains.\n",
    "Matrices in Engineering, such as a line of springs.\n",
    "Graphs and Networks, such as analyzing networks.\n",
    "Markov Matrices, Population, and Economics, such as population growth.\n",
    "Linear Programming, the simplex optimization method.\n",
    "Fourier Series: Linear Algebra for functions, used widely in signal processing.\n",
    "Linear Algebra for statistics and probability, such as least squares for regression.\n",
    "Computer Graphics, such as the various translation, scaling and rotation of images."
   ]
  },
  {
   "cell_type": "code",
   "execution_count": null,
   "metadata": {
    "collapsed": true
   },
   "outputs": [],
   "source": []
  }
 ],
 "metadata": {
  "anaconda-cloud": {},
  "kernelspec": {
   "display_name": "Python [default]",
   "language": "python",
   "name": "python3"
  },
  "language_info": {
   "codemirror_mode": {
    "name": "ipython",
    "version": 3
   },
   "file_extension": ".py",
   "mimetype": "text/x-python",
   "name": "python",
   "nbconvert_exporter": "python",
   "pygments_lexer": "ipython3",
   "version": "3.5.4"
  }
 },
 "nbformat": 4,
 "nbformat_minor": 1
}
